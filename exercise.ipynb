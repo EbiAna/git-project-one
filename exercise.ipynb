{
 "cells": [
  {
   "cell_type": "code",
   "execution_count": 1,
   "id": "8f4d97b0",
   "metadata": {},
   "outputs": [],
   "source": [
    "f = open('text.txt', mode=\"r\")\n",
    "words = f.read()\n",
    "#print(words)\n",
    "words = words.replace(',',' ')\n",
    "words = words.replace('.',' ')\n",
    "words = words.replace('?',' ')\n",
    "words = words.split()\n",
    "#remove prepositions and $\\n$\n",
    "words = [word.lower().strip() for word in words if len(word) > 5]\n",
    "#print(words)"
   ]
  },
  {
   "cell_type": "code",
   "execution_count": 2,
   "id": "af86b207",
   "metadata": {},
   "outputs": [
    {
     "data": {
      "text/plain": [
       "'novels'"
      ]
     },
     "execution_count": 2,
     "metadata": {},
     "output_type": "execute_result"
    }
   ],
   "source": [
    "#Q1 find the most repeated of a word?\n",
    "most_repeat_word = []\n",
    "number_repeat_word = []\n",
    "for word in words:\n",
    "    most_repeat_word.append(word)\n",
    "    count= most_repeat_word.count(word)\n",
    "    number_repeat_word.append(count)\n",
    "dict_word_frequency = dict(zip(most_repeat_word, number_repeat_word))\n",
    "#print(number_repeat_word)\n",
    "#print(most_repeat_word)\n",
    "#print(dictionary)\n",
    "max(dict_word_frequency, key=dict_word_frequency.get)"
   ]
  },
  {
   "cell_type": "code",
   "execution_count": 3,
   "id": "59f0c97f",
   "metadata": {},
   "outputs": [
    {
     "data": {
      "text/plain": [
       "(('novels', 5), ('people', 4), ('within', 3), ('writers', 3))"
      ]
     },
     "execution_count": 3,
     "metadata": {},
     "output_type": "execute_result"
    }
   ],
   "source": [
    "#Q2 sort \"dict_word_frequency\" in descending order of frequency?\n",
    "dict_word_frequency_sort = sorted(dict_word_frequency.items(), key=lambda x:x[1], reverse=True)\n",
    "tuple(dict_word_frequency_sort)[:4]"
   ]
  },
  {
   "cell_type": "code",
   "execution_count": 4,
   "id": "2bd05162",
   "metadata": {},
   "outputs": [
    {
     "data": {
      "text/plain": [
       "'e'"
      ]
     },
     "execution_count": 4,
     "metadata": {},
     "output_type": "execute_result"
    }
   ],
   "source": [
    "#Q3 find the most repeated of a letter?\n",
    "letter = [x for word in words for x in word]\n",
    "#print(letter)\n",
    "most_repeat_letter = []\n",
    "number_repeat_letter = []\n",
    "for i in letter:\n",
    "    most_repeat_letter.append(i)\n",
    "    count= most_repeat_letter.count(i)\n",
    "    number_repeat_letter.append(count)\n",
    "dict_letter_frequency = dict(zip(most_repeat_letter, number_repeat_letter))\n",
    "#print(number_repeat_word)\n",
    "#print(most_repeat_word)\n",
    "#print(dictionary)\n",
    "max(dict_letter_frequency, key=dict_letter_frequency.get)"
   ]
  },
  {
   "cell_type": "code",
   "execution_count": 5,
   "id": "bccfdde6",
   "metadata": {},
   "outputs": [
    {
     "data": {
      "text/plain": [
       "(('e', 193), ('i', 130), ('r', 109), ('t', 100))"
      ]
     },
     "execution_count": 5,
     "metadata": {},
     "output_type": "execute_result"
    }
   ],
   "source": [
    "#Q4 sort \"dict_letter_frequency\" in descending order of frequency?\n",
    "dict_letter_frequency_sort = sorted(dict_letter_frequency.items(), key=lambda x:x[1], reverse=True)\n",
    "tuple(dict_letter_frequency_sort)[:4]"
   ]
  },
  {
   "cell_type": "code",
   "execution_count": null,
   "id": "4b564bc9",
   "metadata": {},
   "outputs": [],
   "source": []
  }
 ],
 "metadata": {
  "kernelspec": {
   "display_name": "Python 3 (ipykernel)",
   "language": "python",
   "name": "python3"
  },
  "language_info": {
   "codemirror_mode": {
    "name": "ipython",
    "version": 3
   },
   "file_extension": ".py",
   "mimetype": "text/x-python",
   "name": "python",
   "nbconvert_exporter": "python",
   "pygments_lexer": "ipython3",
   "version": "3.9.13"
  }
 },
 "nbformat": 4,
 "nbformat_minor": 5
}
